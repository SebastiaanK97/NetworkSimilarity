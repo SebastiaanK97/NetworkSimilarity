{
 "cells": [
  {
   "cell_type": "markdown",
   "source": [
    "The assortativity coefficient is calculated in python after manually extracting the actual number of relationships in Neo4j."
   ],
   "metadata": {
    "collapsed": false,
    "pycharm": {
     "name": "#%% md\n"
    }
   }
  },
  {
   "cell_type": "code",
   "execution_count": 2,
   "outputs": [],
   "source": [
    "import pandas as pd"
   ],
   "metadata": {
    "collapsed": false,
    "pycharm": {
     "name": "#%%\n"
    }
   }
  },
  {
   "cell_type": "code",
   "execution_count": 3,
   "outputs": [],
   "source": [
    "#specification of the number of neighbours (k) and the number of frauds (n)\n",
    "k = [2**exp for exp in range(1, 9)]\n",
    "#multiplication of the list by 8 for repetition of the value\n",
    "n = [492] * 8\n",
    "\n",
    "#actual number of relationships for an directed graph\n",
    "a2 = [1470, 2938, 5698, 10930, 20888, 39972, 78020, 140774]\n",
    "a = [i / 2 for i in a2]\n",
    "\n",
    "#total number of relationships\n",
    "m = [i * j for i, j in zip(k, n)]"
   ],
   "metadata": {
    "collapsed": false,
    "pycharm": {
     "name": "#%%\n"
    }
   }
  },
  {
   "cell_type": "code",
   "execution_count": 4,
   "outputs": [
    {
     "data": {
      "text/plain": "0    0.662830\n1    0.662153\n2    0.632024\n3    0.592586\n4    0.551456\n5    0.513287\n6    0.492933\n7    0.412185\nName: modularity, dtype: float64"
     },
     "execution_count": 4,
     "metadata": {},
     "output_type": "execute_result"
    }
   ],
   "source": [
    "df = pd.DataFrame({\"k\": k, \"n\": n, \"a\": a, \"m\":m})\n",
    "\n",
    "#expected number of relationships is calculable by\n",
    "df[\"e\"] = (1/2) * (df[\"k\"] / 2) * (df[\"n\"] - 1)\n",
    "\n",
    "#modularirty is the difference between the actual and expected number of relationships\n",
    "df[\"q\"] = (df[\"a\"] - df[\"e\"])\n",
    "df[\"q_max\"] = (df[\"m\"]) - df[\"e\"]\n",
    "\n",
    "#normalising modularity\n",
    "df[\"modularity\"] = df[\"q\"] / df[\"q_max\"]\n",
    "df[\"modularity\"]\n",
    "\n",
    "#performing a test to validate calculations\n",
    "df[\"test\"] = (df[\"a\"] - df[\"e\"]) / ((df[\"m\"] - df[\"e\"]))\n",
    "df[\"test\"] == df[\"modularity\"]\n",
    "\n",
    "#printing results\n",
    "df[\"modularity\"]"
   ],
   "metadata": {
    "collapsed": false,
    "pycharm": {
     "name": "#%%\n"
    }
   }
  },
  {
   "cell_type": "code",
   "execution_count": 5,
   "outputs": [],
   "source": [
    "#exportation of results to a CSV\n",
    "df.to_csv(\"results/modularity.csv\")"
   ],
   "metadata": {
    "collapsed": false,
    "pycharm": {
     "name": "#%%\n"
    }
   }
  }
 ],
 "metadata": {
  "kernelspec": {
   "display_name": "Python 3",
   "language": "python",
   "name": "python3"
  },
  "language_info": {
   "codemirror_mode": {
    "name": "ipython",
    "version": 2
   },
   "file_extension": ".py",
   "mimetype": "text/x-python",
   "name": "python",
   "nbconvert_exporter": "python",
   "pygments_lexer": "ipython2",
   "version": "2.7.6"
  }
 },
 "nbformat": 4,
 "nbformat_minor": 0
}