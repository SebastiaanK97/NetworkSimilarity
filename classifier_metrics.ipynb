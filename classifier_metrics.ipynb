{
 "cells": [
  {
   "cell_type": "code",
   "execution_count": 2,
   "outputs": [],
   "source": [
    "import pandas as pd\n",
    "import numpy as np\n",
    "from scipy.stats import ttest_ind\n",
    "from sklearn.linear_model import LogisticRegression\n",
    "from sklearn.metrics import precision_score, recall_score, roc_auc_score\n",
    "from sklearn.model_selection import LeaveOneOut, cross_val_predict\n",
    "from sklearn.preprocessing import PolynomialFeatures, StandardScaler"
   ],
   "metadata": {
    "collapsed": false,
    "pycharm": {
     "name": "#%%\n"
    }
   }
  },
  {
   "cell_type": "code",
   "execution_count": 3,
   "outputs": [
    {
     "data": {
      "text/plain": "   Time        V1        V2        V3        V4        V5        V6        V7  \\\n0   0.0 -1.359807 -0.072781  2.536347  1.378155 -0.338321  0.462388  0.239599   \n1   0.0  1.191857  0.266151  0.166480  0.448154  0.060018 -0.082361 -0.078803   \n2   1.0 -1.358354 -1.340163  1.773209  0.379780 -0.503198  1.800499  0.791461   \n3   1.0 -0.966272 -0.185226  1.792993 -0.863291 -0.010309  1.247203  0.237609   \n4   2.0 -1.158233  0.877737  1.548718  0.403034 -0.407193  0.095921  0.592941   \n\n         V8        V9  ...       V21       V22       V23       V24       V25  \\\n0  0.098698  0.363787  ... -0.018307  0.277838 -0.110474  0.066928  0.128539   \n1  0.085102 -0.255425  ... -0.225775 -0.638672  0.101288 -0.339846  0.167170   \n2  0.247676 -1.514654  ...  0.247998  0.771679  0.909412 -0.689281 -0.327642   \n3  0.377436 -1.387024  ... -0.108300  0.005274 -0.190321 -1.175575  0.647376   \n4 -0.270533  0.817739  ... -0.009431  0.798278 -0.137458  0.141267 -0.206010   \n\n        V26       V27       V28  Amount  Class  \n0 -0.189115  0.133558 -0.021053  149.62      0  \n1  0.125895 -0.008983  0.014724    2.69      0  \n2 -0.139097 -0.055353 -0.059752  378.66      0  \n3 -0.221929  0.062723  0.061458  123.50      0  \n4  0.502292  0.219422  0.215153   69.99      0  \n\n[5 rows x 31 columns]",
      "text/html": "<div>\n<style scoped>\n    .dataframe tbody tr th:only-of-type {\n        vertical-align: middle;\n    }\n\n    .dataframe tbody tr th {\n        vertical-align: top;\n    }\n\n    .dataframe thead th {\n        text-align: right;\n    }\n</style>\n<table border=\"1\" class=\"dataframe\">\n  <thead>\n    <tr style=\"text-align: right;\">\n      <th></th>\n      <th>Time</th>\n      <th>V1</th>\n      <th>V2</th>\n      <th>V3</th>\n      <th>V4</th>\n      <th>V5</th>\n      <th>V6</th>\n      <th>V7</th>\n      <th>V8</th>\n      <th>V9</th>\n      <th>...</th>\n      <th>V21</th>\n      <th>V22</th>\n      <th>V23</th>\n      <th>V24</th>\n      <th>V25</th>\n      <th>V26</th>\n      <th>V27</th>\n      <th>V28</th>\n      <th>Amount</th>\n      <th>Class</th>\n    </tr>\n  </thead>\n  <tbody>\n    <tr>\n      <th>0</th>\n      <td>0.0</td>\n      <td>-1.359807</td>\n      <td>-0.072781</td>\n      <td>2.536347</td>\n      <td>1.378155</td>\n      <td>-0.338321</td>\n      <td>0.462388</td>\n      <td>0.239599</td>\n      <td>0.098698</td>\n      <td>0.363787</td>\n      <td>...</td>\n      <td>-0.018307</td>\n      <td>0.277838</td>\n      <td>-0.110474</td>\n      <td>0.066928</td>\n      <td>0.128539</td>\n      <td>-0.189115</td>\n      <td>0.133558</td>\n      <td>-0.021053</td>\n      <td>149.62</td>\n      <td>0</td>\n    </tr>\n    <tr>\n      <th>1</th>\n      <td>0.0</td>\n      <td>1.191857</td>\n      <td>0.266151</td>\n      <td>0.166480</td>\n      <td>0.448154</td>\n      <td>0.060018</td>\n      <td>-0.082361</td>\n      <td>-0.078803</td>\n      <td>0.085102</td>\n      <td>-0.255425</td>\n      <td>...</td>\n      <td>-0.225775</td>\n      <td>-0.638672</td>\n      <td>0.101288</td>\n      <td>-0.339846</td>\n      <td>0.167170</td>\n      <td>0.125895</td>\n      <td>-0.008983</td>\n      <td>0.014724</td>\n      <td>2.69</td>\n      <td>0</td>\n    </tr>\n    <tr>\n      <th>2</th>\n      <td>1.0</td>\n      <td>-1.358354</td>\n      <td>-1.340163</td>\n      <td>1.773209</td>\n      <td>0.379780</td>\n      <td>-0.503198</td>\n      <td>1.800499</td>\n      <td>0.791461</td>\n      <td>0.247676</td>\n      <td>-1.514654</td>\n      <td>...</td>\n      <td>0.247998</td>\n      <td>0.771679</td>\n      <td>0.909412</td>\n      <td>-0.689281</td>\n      <td>-0.327642</td>\n      <td>-0.139097</td>\n      <td>-0.055353</td>\n      <td>-0.059752</td>\n      <td>378.66</td>\n      <td>0</td>\n    </tr>\n    <tr>\n      <th>3</th>\n      <td>1.0</td>\n      <td>-0.966272</td>\n      <td>-0.185226</td>\n      <td>1.792993</td>\n      <td>-0.863291</td>\n      <td>-0.010309</td>\n      <td>1.247203</td>\n      <td>0.237609</td>\n      <td>0.377436</td>\n      <td>-1.387024</td>\n      <td>...</td>\n      <td>-0.108300</td>\n      <td>0.005274</td>\n      <td>-0.190321</td>\n      <td>-1.175575</td>\n      <td>0.647376</td>\n      <td>-0.221929</td>\n      <td>0.062723</td>\n      <td>0.061458</td>\n      <td>123.50</td>\n      <td>0</td>\n    </tr>\n    <tr>\n      <th>4</th>\n      <td>2.0</td>\n      <td>-1.158233</td>\n      <td>0.877737</td>\n      <td>1.548718</td>\n      <td>0.403034</td>\n      <td>-0.407193</td>\n      <td>0.095921</td>\n      <td>0.592941</td>\n      <td>-0.270533</td>\n      <td>0.817739</td>\n      <td>...</td>\n      <td>-0.009431</td>\n      <td>0.798278</td>\n      <td>-0.137458</td>\n      <td>0.141267</td>\n      <td>-0.206010</td>\n      <td>0.502292</td>\n      <td>0.219422</td>\n      <td>0.215153</td>\n      <td>69.99</td>\n      <td>0</td>\n    </tr>\n  </tbody>\n</table>\n<p>5 rows × 31 columns</p>\n</div>"
     },
     "execution_count": 3,
     "metadata": {},
     "output_type": "execute_result"
    }
   ],
   "source": [
    "df_cc = pd.read_csv(\"data/creditcard.csv\")\n",
    "df_cc.head()"
   ],
   "metadata": {
    "collapsed": false,
    "pycharm": {
     "name": "#%%\n"
    }
   }
  },
  {
   "cell_type": "code",
   "execution_count": 4,
   "outputs": [
    {
     "data": {
      "text/plain": "   from_id  distance   inverse  priority   to_id        type\n0        0  0.000000  0.000000         0       0           0\n1        0  1.576310  0.634393         1  107821  SIMILAR_TO\n2        0  2.148596  0.465420         2   41901  SIMILAR_TO\n3        0  2.814823  0.355262         3   22656  SIMILAR_TO\n4        0  2.918754  0.342612         4   96012  SIMILAR_TO",
      "text/html": "<div>\n<style scoped>\n    .dataframe tbody tr th:only-of-type {\n        vertical-align: middle;\n    }\n\n    .dataframe tbody tr th {\n        vertical-align: top;\n    }\n\n    .dataframe thead th {\n        text-align: right;\n    }\n</style>\n<table border=\"1\" class=\"dataframe\">\n  <thead>\n    <tr style=\"text-align: right;\">\n      <th></th>\n      <th>from_id</th>\n      <th>distance</th>\n      <th>inverse</th>\n      <th>priority</th>\n      <th>to_id</th>\n      <th>type</th>\n    </tr>\n  </thead>\n  <tbody>\n    <tr>\n      <th>0</th>\n      <td>0</td>\n      <td>0.000000</td>\n      <td>0.000000</td>\n      <td>0</td>\n      <td>0</td>\n      <td>0</td>\n    </tr>\n    <tr>\n      <th>1</th>\n      <td>0</td>\n      <td>1.576310</td>\n      <td>0.634393</td>\n      <td>1</td>\n      <td>107821</td>\n      <td>SIMILAR_TO</td>\n    </tr>\n    <tr>\n      <th>2</th>\n      <td>0</td>\n      <td>2.148596</td>\n      <td>0.465420</td>\n      <td>2</td>\n      <td>41901</td>\n      <td>SIMILAR_TO</td>\n    </tr>\n    <tr>\n      <th>3</th>\n      <td>0</td>\n      <td>2.814823</td>\n      <td>0.355262</td>\n      <td>3</td>\n      <td>22656</td>\n      <td>SIMILAR_TO</td>\n    </tr>\n    <tr>\n      <th>4</th>\n      <td>0</td>\n      <td>2.918754</td>\n      <td>0.342612</td>\n      <td>4</td>\n      <td>96012</td>\n      <td>SIMILAR_TO</td>\n    </tr>\n  </tbody>\n</table>\n</div>"
     },
     "execution_count": 4,
     "metadata": {},
     "output_type": "execute_result"
    }
   ],
   "source": [
    "df_rel = pd.read_csv(\"data/relations.csv\", header=None, names=([\"from_id\", \"distance\", \"inverse\", \"priority\", \"to_id\", \"type\"]))\n",
    "df_rel.head()"
   ],
   "metadata": {
    "collapsed": false,
    "pycharm": {
     "name": "#%%\n"
    }
   }
  },
  {
   "cell_type": "code",
   "execution_count": 5,
   "outputs": [
    {
     "data": {
      "text/plain": "   from_id  distance   inverse  priority   to_id        type  from_class  \\\n1        0  1.576310  0.634393         1  107821  SIMILAR_TO           0   \n2        0  2.148596  0.465420         2   41901  SIMILAR_TO           0   \n3        0  2.814823  0.355262         3   22656  SIMILAR_TO           0   \n4        0  2.918754  0.342612         4   96012  SIMILAR_TO           0   \n5        0  2.937022  0.340481         5   66118  SIMILAR_TO           0   \n\n   to_class  \n1         0  \n2         0  \n3         0  \n4         0  \n5         0  ",
      "text/html": "<div>\n<style scoped>\n    .dataframe tbody tr th:only-of-type {\n        vertical-align: middle;\n    }\n\n    .dataframe tbody tr th {\n        vertical-align: top;\n    }\n\n    .dataframe thead th {\n        text-align: right;\n    }\n</style>\n<table border=\"1\" class=\"dataframe\">\n  <thead>\n    <tr style=\"text-align: right;\">\n      <th></th>\n      <th>from_id</th>\n      <th>distance</th>\n      <th>inverse</th>\n      <th>priority</th>\n      <th>to_id</th>\n      <th>type</th>\n      <th>from_class</th>\n      <th>to_class</th>\n    </tr>\n  </thead>\n  <tbody>\n    <tr>\n      <th>1</th>\n      <td>0</td>\n      <td>1.576310</td>\n      <td>0.634393</td>\n      <td>1</td>\n      <td>107821</td>\n      <td>SIMILAR_TO</td>\n      <td>0</td>\n      <td>0</td>\n    </tr>\n    <tr>\n      <th>2</th>\n      <td>0</td>\n      <td>2.148596</td>\n      <td>0.465420</td>\n      <td>2</td>\n      <td>41901</td>\n      <td>SIMILAR_TO</td>\n      <td>0</td>\n      <td>0</td>\n    </tr>\n    <tr>\n      <th>3</th>\n      <td>0</td>\n      <td>2.814823</td>\n      <td>0.355262</td>\n      <td>3</td>\n      <td>22656</td>\n      <td>SIMILAR_TO</td>\n      <td>0</td>\n      <td>0</td>\n    </tr>\n    <tr>\n      <th>4</th>\n      <td>0</td>\n      <td>2.918754</td>\n      <td>0.342612</td>\n      <td>4</td>\n      <td>96012</td>\n      <td>SIMILAR_TO</td>\n      <td>0</td>\n      <td>0</td>\n    </tr>\n    <tr>\n      <th>5</th>\n      <td>0</td>\n      <td>2.937022</td>\n      <td>0.340481</td>\n      <td>5</td>\n      <td>66118</td>\n      <td>SIMILAR_TO</td>\n      <td>0</td>\n      <td>0</td>\n    </tr>\n  </tbody>\n</table>\n</div>"
     },
     "execution_count": 5,
     "metadata": {},
     "output_type": "execute_result"
    }
   ],
   "source": [
    "df_from = pd.DataFrame({\"from_id\": list(df_cc.index), \"from_class\": df_cc.Class})\n",
    "df_to = pd.DataFrame({\"to_id\": list(df_cc.index), \"to_class\": df_cc.Class})\n",
    "df_rel = df_rel.merge(df_from, how=\"left\")\n",
    "df_rel = df_rel.merge(df_to, how=\"left\")\n",
    "df_rel = df_rel[df_rel[\"from_id\"] != df_rel[\"to_id\"]]\n",
    "df_rel.head()"
   ],
   "metadata": {
    "collapsed": false,
    "pycharm": {
     "name": "#%%\n"
    }
   }
  },
  {
   "cell_type": "code",
   "execution_count": 6,
   "outputs": [],
   "source": [
    "def fractionise(d, k, df):\n",
    "\n",
    "    if k != None:\n",
    "        df = df[df['priority'] <= k]\n",
    "    elif d != None:\n",
    "        df = df[df['distance'] <= d]\n",
    "    else:\n",
    "        df = df\n",
    "\n",
    "    df = df.groupby(['from_id','from_class', 'to_class']).size().unstack(fill_value=0)\n",
    "    df['fraction'] = df[1] / (df[0] + df[1])\n",
    "    df = df.reset_index()\n",
    "\n",
    "    df_index = pd.DataFrame({'from_id': df_cc.index})\n",
    "    df = df_index.merge(df, how='left')\n",
    "\n",
    "    df = df.fillna(0)\n",
    "\n",
    "    return df['fraction']"
   ],
   "metadata": {
    "collapsed": false,
    "pycharm": {
     "name": "#%%\n"
    }
   }
  },
  {
   "cell_type": "code",
   "execution_count": 7,
   "outputs": [],
   "source": [
    "def combine_metrics(d, k, df_relations, df_credit, topology):\n",
    "\n",
    "    if k != None:\n",
    "        df_relations = df_relations[df_relations[\"priority\"] <= k]\n",
    "        type = f\"k{k}\"\n",
    "    elif d != None:\n",
    "        df_relations = df_relations[df_relations[\"distance\"] <= d]\n",
    "        type = f\"d{d}\"\n",
    "    else:\n",
    "        df_relations = df_relations\n",
    "\n",
    "    df = pd.DataFrame({\"id\": list(df_credit.index), \"class\": df_credit.Class})\n",
    "    df[\"mean\"] = df_relations.groupby([\"from_id\"])[[\"distance\"]].mean()\n",
    "    df[\"std\"] = df_relations.groupby([\"from_id\"])[[\"distance\"]].std()\n",
    "    df[\"min\"] = df_relations.groupby([\"from_id\"])[[\"distance\"]].min()\n",
    "    df[\"max\"] = df_relations.groupby([\"from_id\"])[[\"distance\"]].max()\n",
    "\n",
    "    df[\"frac\"] = fractionise(d=d, k=k, df=df_relations)\n",
    "\n",
    "    df[\"amount\"] = df_cc[\"Amount\"]\n",
    "\n",
    "    if topology == True:\n",
    "        df[\"lcc\"] = pd.read_csv(f\"topology/lcc_{type}.csv\")[\"lcc\"]\n",
    "        df[\"pr\"] = pd.read_csv(f\"topology/pr_{type}.csv\")[\"PageRank\"]\n",
    "        df[\"ev\"] = pd.read_csv(f\"topology/ev_{type}.csv\")[\"eigenvector\"]\n",
    "        #df[\"dw\"] = pd.read_csv(f\"topology/dw_{type}.csv\")[\"degree\"]\n",
    "    else:\n",
    "        pass\n",
    "\n",
    "    df = df.fillna(0)\n",
    "\n",
    "    return df"
   ],
   "metadata": {
    "collapsed": false,
    "pycharm": {
     "name": "#%%\n"
    }
   }
  },
  {
   "cell_type": "code",
   "execution_count": 8,
   "outputs": [],
   "source": [
    "top_k = [2**exp for exp in range(1, 9)]\n",
    "\n",
    "for k in top_k:\n",
    "    df_met = combine_metrics(d=None, k=k, df_relations=df_rel, df_credit=df_cc, topology=False)\n",
    "\n",
    "    df_met[\"log_std\"] = np.log(df_met[\"std\"])\n",
    "    df_met[\"log_amount\"] = np.log(df_met[\"amount\"] + 1)\n",
    "    df_met[np.isneginf(df_met)] = 0\n",
    "\n",
    "    df_met.iloc[:, 2:] = StandardScaler().fit_transform(df_met.iloc[:, 2:])\n",
    "    df_met.to_csv(f\"results/metrics/metrics_scale_k{k}.csv\", index=False)"
   ],
   "metadata": {
    "collapsed": false,
    "pycharm": {
     "name": "#%%\n"
    }
   }
  },
  {
   "cell_type": "code",
   "execution_count": 8,
   "outputs": [
    {
     "data": {
      "text/plain": "   id  class      mean       std       min       max      frac    amount  \\\n0   0      0 -0.062856 -0.107007 -0.014203 -0.073559 -0.045225  0.244964   \n1   1      0 -0.114042 -0.126230 -0.061865 -0.120827 -0.045225 -0.342475   \n2   2      0  0.084726  0.039915  0.078157  0.076624 -0.045225  1.160686   \n3   3      0 -0.015963 -0.048163 -0.032288 -0.024166 -0.045225  0.140534   \n4   4      0 -0.035430 -0.094164  0.039437 -0.048029 -0.045225 -0.073403   \n\n    log_std  log_amount  \n0 -0.521719    1.124303  \n1 -1.013388   -1.114639  \n2  0.957770    1.682368  \n3  0.306786    1.009339  \n4 -0.282381    0.670241  ",
      "text/html": "<div>\n<style scoped>\n    .dataframe tbody tr th:only-of-type {\n        vertical-align: middle;\n    }\n\n    .dataframe tbody tr th {\n        vertical-align: top;\n    }\n\n    .dataframe thead th {\n        text-align: right;\n    }\n</style>\n<table border=\"1\" class=\"dataframe\">\n  <thead>\n    <tr style=\"text-align: right;\">\n      <th></th>\n      <th>id</th>\n      <th>class</th>\n      <th>mean</th>\n      <th>std</th>\n      <th>min</th>\n      <th>max</th>\n      <th>frac</th>\n      <th>amount</th>\n      <th>log_std</th>\n      <th>log_amount</th>\n    </tr>\n  </thead>\n  <tbody>\n    <tr>\n      <th>0</th>\n      <td>0</td>\n      <td>0</td>\n      <td>-0.062856</td>\n      <td>-0.107007</td>\n      <td>-0.014203</td>\n      <td>-0.073559</td>\n      <td>-0.045225</td>\n      <td>0.244964</td>\n      <td>-0.521719</td>\n      <td>1.124303</td>\n    </tr>\n    <tr>\n      <th>1</th>\n      <td>1</td>\n      <td>0</td>\n      <td>-0.114042</td>\n      <td>-0.126230</td>\n      <td>-0.061865</td>\n      <td>-0.120827</td>\n      <td>-0.045225</td>\n      <td>-0.342475</td>\n      <td>-1.013388</td>\n      <td>-1.114639</td>\n    </tr>\n    <tr>\n      <th>2</th>\n      <td>2</td>\n      <td>0</td>\n      <td>0.084726</td>\n      <td>0.039915</td>\n      <td>0.078157</td>\n      <td>0.076624</td>\n      <td>-0.045225</td>\n      <td>1.160686</td>\n      <td>0.957770</td>\n      <td>1.682368</td>\n    </tr>\n    <tr>\n      <th>3</th>\n      <td>3</td>\n      <td>0</td>\n      <td>-0.015963</td>\n      <td>-0.048163</td>\n      <td>-0.032288</td>\n      <td>-0.024166</td>\n      <td>-0.045225</td>\n      <td>0.140534</td>\n      <td>0.306786</td>\n      <td>1.009339</td>\n    </tr>\n    <tr>\n      <th>4</th>\n      <td>4</td>\n      <td>0</td>\n      <td>-0.035430</td>\n      <td>-0.094164</td>\n      <td>0.039437</td>\n      <td>-0.048029</td>\n      <td>-0.045225</td>\n      <td>-0.073403</td>\n      <td>-0.282381</td>\n      <td>0.670241</td>\n    </tr>\n  </tbody>\n</table>\n</div>"
     },
     "execution_count": 8,
     "metadata": {},
     "output_type": "execute_result"
    }
   ],
   "source": [
    "df_met.head()"
   ],
   "metadata": {
    "collapsed": false,
    "pycharm": {
     "name": "#%%\n"
    }
   }
  },
  {
   "cell_type": "code",
   "execution_count": 9,
   "outputs": [],
   "source": [
    "top_k = [2**exp for exp in range(1, 9)]\n",
    "\n",
    "df_t = pd.DataFrame({\"k\": top_k})\n",
    "df_t = df_t.reindex(columns = df_t.columns.tolist() + [\"mean\", \"std\", \"min\", \"max\", \"frac\"])\n",
    "df_p = df_t.copy()"
   ],
   "metadata": {
    "collapsed": false,
    "pycharm": {
     "name": "#%%\n"
    }
   }
  },
  {
   "cell_type": "code",
   "execution_count": 10,
   "outputs": [],
   "source": [
    "for k in top_k:\n",
    "    df_met = combine_metrics(d=None, k=k, df_relations=df_rel, df_credit=df_cc)\n",
    "    df_met = df_met.drop([\"id\"], axis=1)\n",
    "\n",
    "    df_met[df_met == np.inf] = 0\n",
    "\n",
    "    for col in df_t.drop([\"k\"], axis=1).columns:\n",
    "        data1 = df_met[df_met[\"class\"] == 0][f\"{col}\"]\n",
    "        data2 = df_met[df_met[\"class\"] == 1][f\"{col}\"]\n",
    "        t, p = ttest_ind(data1, data2, equal_var=False, alternative=\"less\")\n",
    "\n",
    "        df_t.loc[df_t[\"k\"] == k, f\"{col}\"] = t\n",
    "        df_p.loc[df_p[\"k\"] == k, f\"{col}\"] = p"
   ],
   "metadata": {
    "collapsed": false,
    "pycharm": {
     "name": "#%%\n"
    }
   }
  },
  {
   "cell_type": "code",
   "execution_count": 11,
   "outputs": [],
   "source": [
    "df_t.to_csv(\"results/significance/t-value_distance_fraction_less.csv\", index=False)\n",
    "df_p.to_csv(\"results/significance/p-value_distance_fraction_less.csv\", index=False)"
   ],
   "metadata": {
    "collapsed": false,
    "pycharm": {
     "name": "#%%\n"
    }
   }
  },
  {
   "cell_type": "code",
   "execution_count": 12,
   "outputs": [],
   "source": [
    "top_k = [2**exp for exp in range(1, 9)]\n",
    "\n",
    "df_t = pd.DataFrame({\"k\": top_k})\n",
    "df_t = df_t.reindex(columns = df_t.columns.tolist() + [\"lcc\", \"pr\", \"ev\"])\n",
    "df_p = df_t.copy()"
   ],
   "metadata": {
    "collapsed": false,
    "pycharm": {
     "name": "#%%\n"
    }
   }
  },
  {
   "cell_type": "code",
   "execution_count": 13,
   "outputs": [],
   "source": [
    "for k in top_k:\n",
    "    df_met = combine_metrics(d=None, k=k, df_relations=df_rel, df_credit=df_cc)\n",
    "    df_met = df_met.drop([\"id\"], axis=1)\n",
    "\n",
    "    df_met[df_met == np.inf] = 0\n",
    "\n",
    "    for col in df_t.drop([\"k\"], axis=1).columns:\n",
    "        data1 = df_met[df_met[\"class\"] == 0][f\"{col}\"]\n",
    "        data2 = df_met[df_met[\"class\"] == 1][f\"{col}\"]\n",
    "        t, p = ttest_ind(data1, data2, equal_var=False, alternative=\"two-sided\")\n",
    "\n",
    "        df_t.loc[df_t[\"k\"] == k, f\"{col}\"] = t\n",
    "        df_p.loc[df_p[\"k\"] == k, f\"{col}\"] = p"
   ],
   "metadata": {
    "collapsed": false,
    "pycharm": {
     "name": "#%%\n"
    }
   }
  },
  {
   "cell_type": "code",
   "execution_count": 14,
   "outputs": [],
   "source": [
    "df_t.to_csv(\"results/significance/t-value_topology_less.csv\", index=False)\n",
    "df_p.to_csv(\"results/significance/p-value_topology_less.csv\", index=False)"
   ],
   "metadata": {
    "collapsed": false,
    "pycharm": {
     "name": "#%%\n"
    }
   }
  },
  {
   "cell_type": "code",
   "execution_count": 15,
   "outputs": [
    {
     "data": {
      "text/plain": "   id  class       mean       std           min        max  frac  amount  \\\n0   0      0   4.715419  0.758605  1.576310e+00   5.665165   0.0  149.62   \n1   1      0   0.667401  0.491520  2.315799e-07   1.336406   0.0    2.69   \n2   2      0  16.386885  2.799990  4.630892e+00  19.418667   0.0  378.66   \n3   3      0   8.423946  1.576199  9.781743e-01  10.188510   0.0  123.50   \n4   4      0   6.884413  0.937049  3.350314e+00   8.003181   0.0   69.99   \n\n    log_std  log_amount  \n0 -0.276274    5.014760  \n1 -0.710253    1.305626  \n2  1.029616    5.939276  \n3  0.455016    4.824306  \n4 -0.065019    4.262539  ",
      "text/html": "<div>\n<style scoped>\n    .dataframe tbody tr th:only-of-type {\n        vertical-align: middle;\n    }\n\n    .dataframe tbody tr th {\n        vertical-align: top;\n    }\n\n    .dataframe thead th {\n        text-align: right;\n    }\n</style>\n<table border=\"1\" class=\"dataframe\">\n  <thead>\n    <tr style=\"text-align: right;\">\n      <th></th>\n      <th>id</th>\n      <th>class</th>\n      <th>mean</th>\n      <th>std</th>\n      <th>min</th>\n      <th>max</th>\n      <th>frac</th>\n      <th>amount</th>\n      <th>log_std</th>\n      <th>log_amount</th>\n    </tr>\n  </thead>\n  <tbody>\n    <tr>\n      <th>0</th>\n      <td>0</td>\n      <td>0</td>\n      <td>4.715419</td>\n      <td>0.758605</td>\n      <td>1.576310e+00</td>\n      <td>5.665165</td>\n      <td>0.0</td>\n      <td>149.62</td>\n      <td>-0.276274</td>\n      <td>5.014760</td>\n    </tr>\n    <tr>\n      <th>1</th>\n      <td>1</td>\n      <td>0</td>\n      <td>0.667401</td>\n      <td>0.491520</td>\n      <td>2.315799e-07</td>\n      <td>1.336406</td>\n      <td>0.0</td>\n      <td>2.69</td>\n      <td>-0.710253</td>\n      <td>1.305626</td>\n    </tr>\n    <tr>\n      <th>2</th>\n      <td>2</td>\n      <td>0</td>\n      <td>16.386885</td>\n      <td>2.799990</td>\n      <td>4.630892e+00</td>\n      <td>19.418667</td>\n      <td>0.0</td>\n      <td>378.66</td>\n      <td>1.029616</td>\n      <td>5.939276</td>\n    </tr>\n    <tr>\n      <th>3</th>\n      <td>3</td>\n      <td>0</td>\n      <td>8.423946</td>\n      <td>1.576199</td>\n      <td>9.781743e-01</td>\n      <td>10.188510</td>\n      <td>0.0</td>\n      <td>123.50</td>\n      <td>0.455016</td>\n      <td>4.824306</td>\n    </tr>\n    <tr>\n      <th>4</th>\n      <td>4</td>\n      <td>0</td>\n      <td>6.884413</td>\n      <td>0.937049</td>\n      <td>3.350314e+00</td>\n      <td>8.003181</td>\n      <td>0.0</td>\n      <td>69.99</td>\n      <td>-0.065019</td>\n      <td>4.262539</td>\n    </tr>\n  </tbody>\n</table>\n</div>"
     },
     "execution_count": 15,
     "metadata": {},
     "output_type": "execute_result"
    }
   ],
   "source": [
    "df_met = combine_metrics(d=None, k=256, df_relations=df_rel, df_credit=df_cc, topology=False)\n",
    "\n",
    "df_met[\"log_std\"] = np.log(df_met[\"std\"])\n",
    "df_met[\"log_amount\"] = np.log(df_met[\"amount\"] + 1)\n",
    "\n",
    "df_met.head()"
   ],
   "metadata": {
    "collapsed": false,
    "pycharm": {
     "name": "#%%\n"
    }
   }
  },
  {
   "cell_type": "code",
   "execution_count": 16,
   "outputs": [],
   "source": [
    "#distance threshold\n",
    "top_k = [2**exp for exp in range(1, 9)]\n",
    "#number of vector embeddings\n",
    "polynomial = range(1, 3)\n",
    "#iteration\n",
    "iteration = range(1, 51)\n",
    "#outcome variables\n",
    "recall = [None]\n",
    "precision = [None]\n",
    "AUC = [None]\n",
    "\n",
    "lp1, lp2, lp3, lp4, lp5, lp6 = pd.core.reshape.util.cartesian_product([top_k, polynomial, iteration, recall, precision, AUC])\n",
    "bm = pd.DataFrame(dict(k=lp1, p=lp2, i=lp3, recall=lp4, precision=lp5, AUC=lp6))"
   ],
   "metadata": {
    "collapsed": false,
    "pycharm": {
     "name": "#%%\n"
    }
   }
  },
  {
   "cell_type": "code",
   "execution_count": 17,
   "outputs": [],
   "source": [
    "variable = [[\"frac\"], [\"frac\", \"std\"], [\"frac\", \"std\", \"amount\"], [\"frac\", \"log_std\"], [\"frac\", \"log_std\", \"log_amount\"]]\n",
    "\n",
    "for v in variable:\n",
    "    var_name = '_'.join(v)\n",
    "\n",
    "    for k in top_k:\n",
    "        df_met = combine_metrics(d=None, k=k, df_relations=df_rel, df_credit=df_cc, topology=False)\n",
    "\n",
    "        df_met[\"log_std\"] = np.log(df_met[\"std\"])\n",
    "        df_met[\"log_amount\"] = np.log(df_met[\"amount\"] + 1)\n",
    "\n",
    "        for i in iteration:\n",
    "\n",
    "            fraud_train = df_met[df_met[\"class\"] == 1]\n",
    "            legit_train = df_met[df_met[\"class\"] == 0].sample(492)\n",
    "            subset = pd.concat([fraud_train, legit_train])\n",
    "\n",
    "            X = subset.loc[:, v]\n",
    "            y = subset['class']\n",
    "\n",
    "            X[np.isneginf(X)] = 0\n",
    "\n",
    "            scaler = StandardScaler().fit(X)\n",
    "            X = scaler.transform(X)\n",
    "\n",
    "            for p in polynomial:\n",
    "                poly = PolynomialFeatures(degree=p, interaction_only=False, include_bias=False)\n",
    "                X = poly.fit_transform(X)\n",
    "\n",
    "                loocv = LeaveOneOut()\n",
    "                model = LogisticRegression(penalty=\"none\", solver=\"lbfgs\", max_iter=10000)\n",
    "\n",
    "                y_pred = cross_val_predict(model, X, y, cv=loocv, method='predict')\n",
    "                bm.loc[(bm[\"k\"] == k) & (bm[\"p\"] == p) & (bm[\"i\"] == i), \"recall\"] = recall_score(y, y_pred)\n",
    "                bm.loc[(bm[\"k\"] == k) & (bm[\"p\"] == p) & (bm[\"i\"] == i), \"precision\"] = precision_score(y, y_pred)\n",
    "\n",
    "                y_pred = cross_val_predict(model, X, y, cv=loocv, method='predict_proba')[:,1]\n",
    "                bm.loc[(bm[\"k\"] == k) & (bm[\"p\"] == p) & (bm[\"i\"] == i), \"AUC\"] = roc_auc_score(y, y_pred)\n",
    "\n",
    "    bm.to_csv(f\"results/bm_log2_model_{var_name}.csv\", index=False)"
   ],
   "metadata": {
    "collapsed": false,
    "pycharm": {
     "name": "#%%\n"
    }
   }
  },
  {
   "cell_type": "raw",
   "source": [
    "Individual test under specific settings of parameters to extract information of the recall-precision trade-off."
   ],
   "metadata": {
    "collapsed": false,
    "pycharm": {
     "name": "#%% raw\n"
    }
   }
  },
  {
   "cell_type": "code",
   "execution_count": 19,
   "outputs": [],
   "source": [
    "fraud_train = df_met[df_met[\"class\"] == 1]\n",
    "legit_train = df_met[df_met[\"class\"] == 0].sample(492)\n",
    "subset = pd.concat([fraud_train, legit_train])\n",
    "\n",
    "X = subset.loc[:, [\"frac\", \"log_std\", \"log_amount\"]]\n",
    "y = subset['class']\n",
    "\n",
    "X[np.isneginf(X)] = 0\n",
    "\n",
    "scaler = StandardScaler().fit(X)\n",
    "X = scaler.transform(X)\n",
    "\n",
    "poly = PolynomialFeatures(degree=2, interaction_only=False, include_bias=False)\n",
    "X = poly.fit_transform(X)\n",
    "\n",
    "loocv = LeaveOneOut()\n",
    "model = LogisticRegression(penalty=\"none\", solver=\"lbfgs\", max_iter=10000)\n",
    "\n",
    "y_pred = cross_val_predict(model, X, y, cv=loocv, method='predict_proba')[:,1]"
   ],
   "metadata": {
    "collapsed": false,
    "pycharm": {
     "name": "#%%\n"
    }
   }
  },
  {
   "cell_type": "code",
   "execution_count": 20,
   "outputs": [
    {
     "data": {
      "text/plain": "         id  class        mean        std        min         max      frac  \\\n0       541      1   61.946367  18.865323  18.971895   77.619972  0.378906   \n1       623      1   23.635497   2.849756  10.556773   26.878016  0.000000   \n2      4920      1   82.593451  15.933916  33.111908   95.224800  0.281250   \n3      6108      1  191.980662  69.300368  28.421581  307.939301  0.792969   \n4      6329      1   74.039379  20.798343   8.838511   92.735092  0.078125   \n..      ...    ...         ...        ...        ...         ...       ...   \n979   43383      0    2.643348   0.960356   0.023786    4.147828  0.000000   \n980  142905      0   12.287047   1.774945   4.351657   14.153531  0.000000   \n981  111181      0    2.617977   0.966008   0.009770    3.758038  0.000000   \n982   85931      0    4.699490   1.259506   1.332461    6.198644  0.000000   \n983   38486      0    7.042852   1.365971   2.406117    8.514191  0.000000   \n\n     amount   log_std  log_amount  prediction  \n0      0.00  2.937325    0.000000    1.000000  \n1    529.00  1.047233    6.272877    0.267709  \n2    239.93  2.768450    5.484506    1.000000  \n3     59.00  4.238450    4.094345    0.999977  \n4      1.00  3.034873    0.693147    0.999975  \n..      ...       ...         ...         ...  \n979   84.00 -0.040451    4.442651    0.072671  \n980    0.76  0.573769    0.565314    0.263772  \n981    0.01 -0.034584    0.009950    0.233156  \n982    9.48  0.230720    2.349469    0.058912  \n983   15.95  0.311865    2.830268    0.056314  \n\n[984 rows x 11 columns]",
      "text/html": "<div>\n<style scoped>\n    .dataframe tbody tr th:only-of-type {\n        vertical-align: middle;\n    }\n\n    .dataframe tbody tr th {\n        vertical-align: top;\n    }\n\n    .dataframe thead th {\n        text-align: right;\n    }\n</style>\n<table border=\"1\" class=\"dataframe\">\n  <thead>\n    <tr style=\"text-align: right;\">\n      <th></th>\n      <th>id</th>\n      <th>class</th>\n      <th>mean</th>\n      <th>std</th>\n      <th>min</th>\n      <th>max</th>\n      <th>frac</th>\n      <th>amount</th>\n      <th>log_std</th>\n      <th>log_amount</th>\n      <th>prediction</th>\n    </tr>\n  </thead>\n  <tbody>\n    <tr>\n      <th>0</th>\n      <td>541</td>\n      <td>1</td>\n      <td>61.946367</td>\n      <td>18.865323</td>\n      <td>18.971895</td>\n      <td>77.619972</td>\n      <td>0.378906</td>\n      <td>0.00</td>\n      <td>2.937325</td>\n      <td>0.000000</td>\n      <td>1.000000</td>\n    </tr>\n    <tr>\n      <th>1</th>\n      <td>623</td>\n      <td>1</td>\n      <td>23.635497</td>\n      <td>2.849756</td>\n      <td>10.556773</td>\n      <td>26.878016</td>\n      <td>0.000000</td>\n      <td>529.00</td>\n      <td>1.047233</td>\n      <td>6.272877</td>\n      <td>0.267709</td>\n    </tr>\n    <tr>\n      <th>2</th>\n      <td>4920</td>\n      <td>1</td>\n      <td>82.593451</td>\n      <td>15.933916</td>\n      <td>33.111908</td>\n      <td>95.224800</td>\n      <td>0.281250</td>\n      <td>239.93</td>\n      <td>2.768450</td>\n      <td>5.484506</td>\n      <td>1.000000</td>\n    </tr>\n    <tr>\n      <th>3</th>\n      <td>6108</td>\n      <td>1</td>\n      <td>191.980662</td>\n      <td>69.300368</td>\n      <td>28.421581</td>\n      <td>307.939301</td>\n      <td>0.792969</td>\n      <td>59.00</td>\n      <td>4.238450</td>\n      <td>4.094345</td>\n      <td>0.999977</td>\n    </tr>\n    <tr>\n      <th>4</th>\n      <td>6329</td>\n      <td>1</td>\n      <td>74.039379</td>\n      <td>20.798343</td>\n      <td>8.838511</td>\n      <td>92.735092</td>\n      <td>0.078125</td>\n      <td>1.00</td>\n      <td>3.034873</td>\n      <td>0.693147</td>\n      <td>0.999975</td>\n    </tr>\n    <tr>\n      <th>...</th>\n      <td>...</td>\n      <td>...</td>\n      <td>...</td>\n      <td>...</td>\n      <td>...</td>\n      <td>...</td>\n      <td>...</td>\n      <td>...</td>\n      <td>...</td>\n      <td>...</td>\n      <td>...</td>\n    </tr>\n    <tr>\n      <th>979</th>\n      <td>43383</td>\n      <td>0</td>\n      <td>2.643348</td>\n      <td>0.960356</td>\n      <td>0.023786</td>\n      <td>4.147828</td>\n      <td>0.000000</td>\n      <td>84.00</td>\n      <td>-0.040451</td>\n      <td>4.442651</td>\n      <td>0.072671</td>\n    </tr>\n    <tr>\n      <th>980</th>\n      <td>142905</td>\n      <td>0</td>\n      <td>12.287047</td>\n      <td>1.774945</td>\n      <td>4.351657</td>\n      <td>14.153531</td>\n      <td>0.000000</td>\n      <td>0.76</td>\n      <td>0.573769</td>\n      <td>0.565314</td>\n      <td>0.263772</td>\n    </tr>\n    <tr>\n      <th>981</th>\n      <td>111181</td>\n      <td>0</td>\n      <td>2.617977</td>\n      <td>0.966008</td>\n      <td>0.009770</td>\n      <td>3.758038</td>\n      <td>0.000000</td>\n      <td>0.01</td>\n      <td>-0.034584</td>\n      <td>0.009950</td>\n      <td>0.233156</td>\n    </tr>\n    <tr>\n      <th>982</th>\n      <td>85931</td>\n      <td>0</td>\n      <td>4.699490</td>\n      <td>1.259506</td>\n      <td>1.332461</td>\n      <td>6.198644</td>\n      <td>0.000000</td>\n      <td>9.48</td>\n      <td>0.230720</td>\n      <td>2.349469</td>\n      <td>0.058912</td>\n    </tr>\n    <tr>\n      <th>983</th>\n      <td>38486</td>\n      <td>0</td>\n      <td>7.042852</td>\n      <td>1.365971</td>\n      <td>2.406117</td>\n      <td>8.514191</td>\n      <td>0.000000</td>\n      <td>15.95</td>\n      <td>0.311865</td>\n      <td>2.830268</td>\n      <td>0.056314</td>\n    </tr>\n  </tbody>\n</table>\n<p>984 rows × 11 columns</p>\n</div>"
     },
     "execution_count": 20,
     "metadata": {},
     "output_type": "execute_result"
    }
   ],
   "source": [
    "predictions = pd.DataFrame({\"prediction\": y_pred})\n",
    "output = pd.concat([subset.reset_index(drop=True), predictions.reset_index(drop=True)], axis=1)\n",
    "output"
   ],
   "metadata": {
    "collapsed": false,
    "pycharm": {
     "name": "#%%\n"
    }
   }
  },
  {
   "cell_type": "code",
   "execution_count": 21,
   "outputs": [],
   "source": [
    "thresholds = range(1, 101)\n",
    "thresholds = [threshold / 100 for threshold in thresholds]\n",
    "theft = [None]\n",
    "FN = [None]\n",
    "\n",
    "lp1, lp2, lp3 = pd.core.reshape.util.cartesian_product([thresholds, theft, FN])\n",
    "bm = pd.DataFrame(dict(t=lp1, theft=lp2, false_negative=lp3))"
   ],
   "metadata": {
    "collapsed": false,
    "pycharm": {
     "name": "#%%\n"
    }
   }
  },
  {
   "cell_type": "code",
   "execution_count": 22,
   "outputs": [],
   "source": [
    "for t in thresholds:\n",
    "\n",
    "    output.loc[output[\"prediction\"] >= t, \"class_predict\"] = int(1)\n",
    "    output.loc[output[\"prediction\"] <  t, \"class_predict\"] = int(0)\n",
    "\n",
    "    output[\"loss_amount\"] = 0\n",
    "    output.loc[(output[\"class\"] ==  1) & (output[\"class_predict\"] ==  0), \"loss_amount\"] = 1\n",
    "\n",
    "    output[\"false_negative\"] = 0\n",
    "    output.loc[(output[\"class\"] ==  0) & (output[\"class_predict\"] ==  1), \"false_negative\"] = 1\n",
    "\n",
    "    output[\"loss_amount\"] = output[\"loss_amount\"] * output[\"amount\"]\n",
    "\n",
    "    bm.loc[bm[\"t\"] == t, \"theft\"] = output[\"loss_amount\"].sum()\n",
    "    bm.loc[bm[\"t\"] == t, \"false_negative\"] = output[\"false_negative\"].sum()"
   ],
   "metadata": {
    "collapsed": false,
    "pycharm": {
     "name": "#%%\n"
    }
   }
  },
  {
   "cell_type": "code",
   "execution_count": 24,
   "outputs": [
    {
     "data": {
      "text/plain": "       t     theft false_negative\n0   0.01       0.0            483\n1   0.02       0.0            471\n2   0.03       0.0            456\n3   0.04      4.49            428\n4   0.05     77.16            370\n..   ...       ...            ...\n95  0.96  14892.48              2\n96  0.97   15180.6              2\n97  0.98  15378.86              2\n98  0.99  15411.17              1\n99  1.00  60127.97              1\n\n[100 rows x 3 columns]",
      "text/html": "<div>\n<style scoped>\n    .dataframe tbody tr th:only-of-type {\n        vertical-align: middle;\n    }\n\n    .dataframe tbody tr th {\n        vertical-align: top;\n    }\n\n    .dataframe thead th {\n        text-align: right;\n    }\n</style>\n<table border=\"1\" class=\"dataframe\">\n  <thead>\n    <tr style=\"text-align: right;\">\n      <th></th>\n      <th>t</th>\n      <th>theft</th>\n      <th>false_negative</th>\n    </tr>\n  </thead>\n  <tbody>\n    <tr>\n      <th>0</th>\n      <td>0.01</td>\n      <td>0.0</td>\n      <td>483</td>\n    </tr>\n    <tr>\n      <th>1</th>\n      <td>0.02</td>\n      <td>0.0</td>\n      <td>471</td>\n    </tr>\n    <tr>\n      <th>2</th>\n      <td>0.03</td>\n      <td>0.0</td>\n      <td>456</td>\n    </tr>\n    <tr>\n      <th>3</th>\n      <td>0.04</td>\n      <td>4.49</td>\n      <td>428</td>\n    </tr>\n    <tr>\n      <th>4</th>\n      <td>0.05</td>\n      <td>77.16</td>\n      <td>370</td>\n    </tr>\n    <tr>\n      <th>...</th>\n      <td>...</td>\n      <td>...</td>\n      <td>...</td>\n    </tr>\n    <tr>\n      <th>95</th>\n      <td>0.96</td>\n      <td>14892.48</td>\n      <td>2</td>\n    </tr>\n    <tr>\n      <th>96</th>\n      <td>0.97</td>\n      <td>15180.6</td>\n      <td>2</td>\n    </tr>\n    <tr>\n      <th>97</th>\n      <td>0.98</td>\n      <td>15378.86</td>\n      <td>2</td>\n    </tr>\n    <tr>\n      <th>98</th>\n      <td>0.99</td>\n      <td>15411.17</td>\n      <td>1</td>\n    </tr>\n    <tr>\n      <th>99</th>\n      <td>1.00</td>\n      <td>60127.97</td>\n      <td>1</td>\n    </tr>\n  </tbody>\n</table>\n<p>100 rows × 3 columns</p>\n</div>"
     },
     "execution_count": 24,
     "metadata": {},
     "output_type": "execute_result"
    }
   ],
   "source": [
    "bm"
   ],
   "metadata": {
    "collapsed": false,
    "pycharm": {
     "name": "#%%\n"
    }
   }
  },
  {
   "cell_type": "code",
   "execution_count": 25,
   "outputs": [],
   "source": [
    "bm.to_csv(f\"results/bm_theft_safe.csv\", index=False)"
   ],
   "metadata": {
    "collapsed": false,
    "pycharm": {
     "name": "#%%\n"
    }
   }
  }
 ],
 "metadata": {
  "kernelspec": {
   "display_name": "Python 3",
   "language": "python",
   "name": "python3"
  },
  "language_info": {
   "codemirror_mode": {
    "name": "ipython",
    "version": 2
   },
   "file_extension": ".py",
   "mimetype": "text/x-python",
   "name": "python",
   "nbconvert_exporter": "python",
   "pygments_lexer": "ipython2",
   "version": "2.7.6"
  }
 },
 "nbformat": 4,
 "nbformat_minor": 0
}